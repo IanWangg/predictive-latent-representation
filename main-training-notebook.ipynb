{
 "cells": [
  {
   "cell_type": "markdown",
   "metadata": {},
   "source": [
    "## Code to train DQN with APSF representations"
   ]
  },
  {
   "cell_type": "code",
   "execution_count": 13,
   "metadata": {},
   "outputs": [
    {
     "name": "stdout",
     "output_type": "stream",
     "text": [
      "The autoreload extension is already loaded. To reload it, use:\n",
      "  %reload_ext autoreload\n"
     ]
    }
   ],
   "source": [
    "import sys,os\n",
    "sys.path.append('../')\n",
    "from deep_rl import *\n",
    "import matplotlib.pyplot as plt\n",
    "import torch\n",
    "# torch.multiprocessing.set_start_method('spawn')\n",
    "from tqdm import trange, tqdm\n",
    "import random\n",
    "import numpy as np\n",
    "select_device(-1)\n",
    "%load_ext autoreload\n",
    "%reload_ext autoreload\n",
    "%autoreload 2"
   ]
  },
  {
   "cell_type": "code",
   "execution_count": 14,
   "metadata": {},
   "outputs": [
    {
     "data": {
      "text/plain": [
       "0"
      ]
     },
     "execution_count": 14,
     "metadata": {},
     "output_type": "execute_result"
    }
   ],
   "source": [
    "torch.cuda.current_device()"
   ]
  },
  {
   "cell_type": "code",
   "execution_count": 19,
   "metadata": {},
   "outputs": [],
   "source": [
    "def dqn_feature(**kwargs):\n",
    "    generate_tag(kwargs)\n",
    "    kwargs.setdefault('log_level', 0)\n",
    "    config = Config()\n",
    "    config.merge(kwargs)\n",
    "\n",
    "    config.task_fn = lambda: Task(config.game)\n",
    "    config.eval_env = config.task_fn()\n",
    "\n",
    "    config.optimizer_fn = lambda params: torch.optim.RMSprop(params, 0.001)\n",
    "    config.network_fn = lambda: VanillaNet(config.action_dim, FCBody(config.state_dim, hidden_units=(16,)))\n",
    "    config.replay_fn = lambda: AsyncReplay(memory_size=int(1e4), batch_size=10)\n",
    "\n",
    "    config.random_action_prob = LinearSchedule(1.0, 0.1, 3e4)\n",
    "    config.discount = 0.99\n",
    "    config.target_network_update_freq = 200\n",
    "    config.exploration_steps = 0\n",
    "    # config.double_q = True\n",
    "    config.double_q = False\n",
    "    config.sgd_update_frequency = 4\n",
    "    config.gradient_clip = 5\n",
    "    config.eval_interval = int(5e3)\n",
    "    config.max_steps = 5e4\n",
    "    config.async_actor = False\n",
    "    run_steps(DQNAgent(config))\n",
    "#     agent = DQNAgent(config)\n",
    "#     #run_steps function below\n",
    "#     config = agent.config\n",
    "#     agent_name = agent.__class__.__name__\n",
    "#     t0 = time.time()\n",
    "#     while True:\n",
    "#         if config.save_interval and not agent.total_steps % config.save_interval:\n",
    "#             agent.save('data/%s-%s-%d' % (agent_name, config.tag, agent.total_steps))\n",
    "#         if config.log_interval and not agent.total_steps % config.log_interval:\n",
    "#             t0 = time.time()\n",
    "#         if config.eval_interval and not agent.total_steps % config.eval_interval:\n",
    "#             agent.eval_episodes()\n",
    "#             pass\n",
    "#         if config.max_steps and agent.total_steps >= config.max_steps:\n",
    "#             return agent\n",
    "#             break\n",
    "#         agent.step()\n",
    "#         agent.switch_task()\n",
    "#     return agent"
   ]
  },
  {
   "cell_type": "code",
   "execution_count": 20,
   "metadata": {},
   "outputs": [
    {
     "name": "stdout",
     "output_type": "stream",
     "text": [
      "starting making env\n"
     ]
    },
    {
     "name": "stderr",
     "output_type": "stream",
     "text": [
      "2021-06-16 22:32:58,849 - root - INFO: steps 0, 65536000.00 steps/s\n"
     ]
    },
    {
     "name": "stdout",
     "output_type": "stream",
     "text": [
      "starting making env\n"
     ]
    },
    {
     "name": "stderr",
     "output_type": "stream",
     "text": [
      "2021-06-16 22:32:59,051 - root - INFO: steps 0, episodic_return_test -200.00(0.00)\n",
      "2021-06-16 22:32:59,380 - root - INFO: steps 1000, 1889.12 steps/s\n",
      "2021-06-16 22:32:59,709 - root - INFO: steps 2000, 3045.26 steps/s\n",
      "2021-06-16 22:33:00,024 - root - INFO: steps 3000, 3183.43 steps/s\n",
      "2021-06-16 22:33:00,370 - root - INFO: steps 4000, 2889.89 steps/s\n",
      "2021-06-16 22:33:00,691 - root - INFO: steps 5000, 3128.77 steps/s\n",
      "2021-06-16 22:33:00,848 - root - INFO: steps 5000, episodic_return_test -160.50(24.98)\n",
      "2021-06-16 22:33:01,181 - root - INFO: steps 6000, 2040.17 steps/s\n",
      "2021-06-16 22:33:01,501 - root - INFO: steps 7000, 3133.93 steps/s\n",
      "2021-06-16 22:33:01,822 - root - INFO: steps 8000, 3117.87 steps/s\n",
      "2021-06-16 22:33:02,141 - root - INFO: steps 9000, 3141.33 steps/s\n",
      "2021-06-16 22:33:02,451 - root - INFO: steps 10000, 3234.27 steps/s\n",
      "2021-06-16 22:33:02,631 - root - INFO: steps 10000, episodic_return_test -180.20(18.78)\n",
      "2021-06-16 22:33:02,941 - root - INFO: steps 11000, 2042.44 steps/s\n",
      "2021-06-16 22:33:03,276 - root - INFO: steps 12000, 2992.57 steps/s\n",
      "2021-06-16 22:33:03,587 - root - INFO: steps 13000, 3226.38 steps/s\n",
      "2021-06-16 22:33:03,899 - root - INFO: steps 14000, 3208.18 steps/s\n",
      "2021-06-16 22:33:04,229 - root - INFO: steps 15000, 3033.97 steps/s\n",
      "2021-06-16 22:33:04,365 - root - INFO: steps 15000, episodic_return_test -140.60(28.69)\n",
      "2021-06-16 22:33:04,666 - root - INFO: steps 16000, 2293.64 steps/s\n",
      "2021-06-16 22:33:04,981 - root - INFO: steps 17000, 3182.38 steps/s\n",
      "2021-06-16 22:33:05,296 - root - INFO: steps 18000, 3176.67 steps/s\n",
      "2021-06-16 22:33:05,614 - root - INFO: steps 19000, 3148.30 steps/s\n",
      "2021-06-16 22:33:05,942 - root - INFO: steps 20000, 3055.08 steps/s\n",
      "2021-06-16 22:33:06,007 - root - INFO: steps 20000, episodic_return_test -62.50(28.48)\n",
      "2021-06-16 22:33:06,333 - root - INFO: steps 21000, 2562.70 steps/s\n",
      "2021-06-16 22:33:06,648 - root - INFO: steps 22000, 3182.65 steps/s\n",
      "2021-06-16 22:33:06,967 - root - INFO: steps 23000, 3138.29 steps/s\n",
      "2021-06-16 22:33:07,298 - root - INFO: steps 24000, 3024.93 steps/s\n",
      "2021-06-16 22:33:07,629 - root - INFO: steps 25000, 3030.23 steps/s\n",
      "2021-06-16 22:33:07,677 - root - INFO: steps 25000, episodic_return_test -43.20(24.80)\n",
      "2021-06-16 22:33:07,988 - root - INFO: steps 26000, 2791.60 steps/s\n",
      "2021-06-16 22:33:08,328 - root - INFO: steps 27000, 2944.81 steps/s\n",
      "2021-06-16 22:33:08,672 - root - INFO: steps 28000, 2917.10 steps/s\n",
      "2021-06-16 22:33:08,993 - root - INFO: steps 29000, 3112.74 steps/s\n",
      "2021-06-16 22:33:09,325 - root - INFO: steps 30000, 3026.68 steps/s\n",
      "2021-06-16 22:33:09,404 - root - INFO: steps 30000, episodic_return_test -82.10(30.45)\n",
      "2021-06-16 22:33:09,704 - root - INFO: steps 31000, 2639.79 steps/s\n",
      "2021-06-16 22:33:10,043 - root - INFO: steps 32000, 2953.22 steps/s\n",
      "2021-06-16 22:33:10,374 - root - INFO: steps 33000, 3028.00 steps/s\n",
      "2021-06-16 22:33:10,717 - root - INFO: steps 34000, 2927.58 steps/s\n",
      "2021-06-16 22:33:11,040 - root - INFO: steps 35000, 3102.92 steps/s\n",
      "2021-06-16 22:33:11,052 - root - INFO: steps 35000, episodic_return_test -10.20(1.19)\n",
      "2021-06-16 22:33:11,392 - root - INFO: steps 36000, 2841.31 steps/s\n",
      "2021-06-16 22:33:11,712 - root - INFO: steps 37000, 3136.40 steps/s\n",
      "2021-06-16 22:33:12,027 - root - INFO: steps 38000, 3178.02 steps/s\n",
      "2021-06-16 22:33:12,350 - root - INFO: steps 39000, 3116.44 steps/s\n",
      "2021-06-16 22:33:12,672 - root - INFO: steps 40000, 3106.30 steps/s\n",
      "2021-06-16 22:33:12,681 - root - INFO: steps 40000, episodic_return_test -6.40(0.81)\n",
      "Process AsyncReplay-11:\n",
      "Traceback (most recent call last):\n",
      "  File \"/home/yiranwang/anaconda3/envs/DPC/lib/python3.7/multiprocessing/process.py\", line 297, in _bootstrap\n",
      "    self.run()\n",
      "  File \"../deep_rl/component/replay.py\", line 127, in run\n",
      "    op, data = self.worker_pipe.recv()\n"
     ]
    },
    {
     "ename": "KeyboardInterrupt",
     "evalue": "",
     "output_type": "error",
     "traceback": [
      "\u001b[0;31m---------------------------------------------------------------------------\u001b[0m",
      "\u001b[0;31mKeyboardInterrupt\u001b[0m                         Traceback (most recent call last)",
      "\u001b[0;32m<ipython-input-20-4160c7c53459>\u001b[0m in \u001b[0;36m<module>\u001b[0;34m\u001b[0m\n\u001b[1;32m      1\u001b[0m \u001b[0mgame\u001b[0m \u001b[0;34m=\u001b[0m \u001b[0;34m'FourRoomsMatrix'\u001b[0m\u001b[0;34m\u001b[0m\u001b[0;34m\u001b[0m\u001b[0m\n\u001b[0;32m----> 2\u001b[0;31m \u001b[0magent\u001b[0m \u001b[0;34m=\u001b[0m \u001b[0mdqn_feature\u001b[0m\u001b[0;34m(\u001b[0m\u001b[0mgame\u001b[0m\u001b[0;34m=\u001b[0m\u001b[0mgame\u001b[0m\u001b[0;34m)\u001b[0m\u001b[0;34m\u001b[0m\u001b[0;34m\u001b[0m\u001b[0m\n\u001b[0m",
      "\u001b[0;32m<ipython-input-19-79644c5ea483>\u001b[0m in \u001b[0;36mdqn_feature\u001b[0;34m(**kwargs)\u001b[0m\n\u001b[1;32m     23\u001b[0m     \u001b[0mconfig\u001b[0m\u001b[0;34m.\u001b[0m\u001b[0mmax_steps\u001b[0m \u001b[0;34m=\u001b[0m \u001b[0;36m5e4\u001b[0m\u001b[0;34m\u001b[0m\u001b[0;34m\u001b[0m\u001b[0m\n\u001b[1;32m     24\u001b[0m     \u001b[0mconfig\u001b[0m\u001b[0;34m.\u001b[0m\u001b[0masync_actor\u001b[0m \u001b[0;34m=\u001b[0m \u001b[0;32mFalse\u001b[0m\u001b[0;34m\u001b[0m\u001b[0;34m\u001b[0m\u001b[0m\n\u001b[0;32m---> 25\u001b[0;31m     \u001b[0mrun_steps\u001b[0m\u001b[0;34m(\u001b[0m\u001b[0mDQNAgent\u001b[0m\u001b[0;34m(\u001b[0m\u001b[0mconfig\u001b[0m\u001b[0;34m)\u001b[0m\u001b[0;34m)\u001b[0m\u001b[0;34m\u001b[0m\u001b[0;34m\u001b[0m\u001b[0m\n\u001b[0m\u001b[1;32m     26\u001b[0m \u001b[0;31m#     agent = DQNAgent(config)\u001b[0m\u001b[0;34m\u001b[0m\u001b[0;34m\u001b[0m\u001b[0;34m\u001b[0m\u001b[0m\n\u001b[1;32m     27\u001b[0m \u001b[0;31m#     #run_steps function below\u001b[0m\u001b[0;34m\u001b[0m\u001b[0;34m\u001b[0m\u001b[0;34m\u001b[0m\u001b[0m\n",
      "\u001b[0;32m~/Workplace/DPC/deep_rl/utils/misc.py\u001b[0m in \u001b[0;36mrun_steps\u001b[0;34m(agent)\u001b[0m\n\u001b[1;32m     30\u001b[0m             \u001b[0magent\u001b[0m\u001b[0;34m.\u001b[0m\u001b[0mclose\u001b[0m\u001b[0;34m(\u001b[0m\u001b[0;34m)\u001b[0m\u001b[0;34m\u001b[0m\u001b[0;34m\u001b[0m\u001b[0m\n\u001b[1;32m     31\u001b[0m             \u001b[0;32mbreak\u001b[0m\u001b[0;34m\u001b[0m\u001b[0;34m\u001b[0m\u001b[0m\n\u001b[0;32m---> 32\u001b[0;31m         \u001b[0magent\u001b[0m\u001b[0;34m.\u001b[0m\u001b[0mstep\u001b[0m\u001b[0;34m(\u001b[0m\u001b[0;34m)\u001b[0m\u001b[0;34m\u001b[0m\u001b[0;34m\u001b[0m\u001b[0m\n\u001b[0m\u001b[1;32m     33\u001b[0m         \u001b[0magent\u001b[0m\u001b[0;34m.\u001b[0m\u001b[0mswitch_task\u001b[0m\u001b[0;34m(\u001b[0m\u001b[0;34m)\u001b[0m\u001b[0;34m\u001b[0m\u001b[0;34m\u001b[0m\u001b[0m\n\u001b[1;32m     34\u001b[0m     \u001b[0;32mreturn\u001b[0m \u001b[0magent\u001b[0m\u001b[0;34m\u001b[0m\u001b[0;34m\u001b[0m\u001b[0m\n",
      "\u001b[0;32m~/Workplace/DPC/deep_rl/agent/DQN_agent.py\u001b[0m in \u001b[0;36mstep\u001b[0;34m(self)\u001b[0m\n\u001b[1;32m     83\u001b[0m     \u001b[0;32mdef\u001b[0m \u001b[0mstep\u001b[0m\u001b[0;34m(\u001b[0m\u001b[0mself\u001b[0m\u001b[0;34m)\u001b[0m\u001b[0;34m:\u001b[0m\u001b[0;34m\u001b[0m\u001b[0;34m\u001b[0m\u001b[0m\n\u001b[1;32m     84\u001b[0m         \u001b[0mconfig\u001b[0m \u001b[0;34m=\u001b[0m \u001b[0mself\u001b[0m\u001b[0;34m.\u001b[0m\u001b[0mconfig\u001b[0m\u001b[0;34m\u001b[0m\u001b[0;34m\u001b[0m\u001b[0m\n\u001b[0;32m---> 85\u001b[0;31m         \u001b[0mtransitions\u001b[0m \u001b[0;34m=\u001b[0m \u001b[0mself\u001b[0m\u001b[0;34m.\u001b[0m\u001b[0mactor\u001b[0m\u001b[0;34m.\u001b[0m\u001b[0mstep\u001b[0m\u001b[0;34m(\u001b[0m\u001b[0;34m)\u001b[0m\u001b[0;34m\u001b[0m\u001b[0;34m\u001b[0m\u001b[0m\n\u001b[0m\u001b[1;32m     86\u001b[0m         \u001b[0mexperiences\u001b[0m \u001b[0;34m=\u001b[0m \u001b[0;34m[\u001b[0m\u001b[0;34m]\u001b[0m\u001b[0;34m\u001b[0m\u001b[0;34m\u001b[0m\u001b[0m\n\u001b[1;32m     87\u001b[0m         \u001b[0;32mfor\u001b[0m \u001b[0mstate\u001b[0m\u001b[0;34m,\u001b[0m \u001b[0maction\u001b[0m\u001b[0;34m,\u001b[0m \u001b[0mreward\u001b[0m\u001b[0;34m,\u001b[0m \u001b[0mnext_state\u001b[0m\u001b[0;34m,\u001b[0m \u001b[0mdone\u001b[0m\u001b[0;34m,\u001b[0m \u001b[0minfo\u001b[0m \u001b[0;32min\u001b[0m \u001b[0mtransitions\u001b[0m\u001b[0;34m:\u001b[0m\u001b[0;34m\u001b[0m\u001b[0;34m\u001b[0m\u001b[0m\n",
      "\u001b[0;32m~/Workplace/DPC/deep_rl/agent/BaseAgent.py\u001b[0m in \u001b[0;36m_sample\u001b[0;34m(self)\u001b[0m\n\u001b[1;32m    135\u001b[0m         \u001b[0mtransitions\u001b[0m \u001b[0;34m=\u001b[0m \u001b[0;34m[\u001b[0m\u001b[0;34m]\u001b[0m\u001b[0;34m\u001b[0m\u001b[0;34m\u001b[0m\u001b[0m\n\u001b[1;32m    136\u001b[0m         \u001b[0;32mfor\u001b[0m \u001b[0m_\u001b[0m \u001b[0;32min\u001b[0m \u001b[0mrange\u001b[0m\u001b[0;34m(\u001b[0m\u001b[0mself\u001b[0m\u001b[0;34m.\u001b[0m\u001b[0mconfig\u001b[0m\u001b[0;34m.\u001b[0m\u001b[0msgd_update_frequency\u001b[0m\u001b[0;34m)\u001b[0m\u001b[0;34m:\u001b[0m\u001b[0;34m\u001b[0m\u001b[0;34m\u001b[0m\u001b[0m\n\u001b[0;32m--> 137\u001b[0;31m             \u001b[0mtransitions\u001b[0m\u001b[0;34m.\u001b[0m\u001b[0mappend\u001b[0m\u001b[0;34m(\u001b[0m\u001b[0mself\u001b[0m\u001b[0;34m.\u001b[0m\u001b[0m_transition\u001b[0m\u001b[0;34m(\u001b[0m\u001b[0;34m)\u001b[0m\u001b[0;34m)\u001b[0m\u001b[0;34m\u001b[0m\u001b[0;34m\u001b[0m\u001b[0m\n\u001b[0m\u001b[1;32m    138\u001b[0m         \u001b[0;32mreturn\u001b[0m \u001b[0mtransitions\u001b[0m\u001b[0;34m\u001b[0m\u001b[0;34m\u001b[0m\u001b[0m\n\u001b[1;32m    139\u001b[0m \u001b[0;34m\u001b[0m\u001b[0m\n",
      "\u001b[0;32m~/Workplace/DPC/deep_rl/agent/DQN_agent.py\u001b[0m in \u001b[0;36m_transition\u001b[0;34m(self)\u001b[0m\n\u001b[1;32m     30\u001b[0m         \u001b[0;32melse\u001b[0m\u001b[0;34m:\u001b[0m\u001b[0;34m\u001b[0m\u001b[0;34m\u001b[0m\u001b[0m\n\u001b[1;32m     31\u001b[0m             \u001b[0maction\u001b[0m \u001b[0;34m=\u001b[0m \u001b[0mnp\u001b[0m\u001b[0;34m.\u001b[0m\u001b[0margmax\u001b[0m\u001b[0;34m(\u001b[0m\u001b[0mq_values\u001b[0m\u001b[0;34m)\u001b[0m\u001b[0;34m\u001b[0m\u001b[0;34m\u001b[0m\u001b[0m\n\u001b[0;32m---> 32\u001b[0;31m         \u001b[0mnext_state\u001b[0m\u001b[0;34m,\u001b[0m \u001b[0mreward\u001b[0m\u001b[0;34m,\u001b[0m \u001b[0mdone\u001b[0m\u001b[0;34m,\u001b[0m \u001b[0minfo\u001b[0m \u001b[0;34m=\u001b[0m \u001b[0mself\u001b[0m\u001b[0;34m.\u001b[0m\u001b[0m_task\u001b[0m\u001b[0;34m.\u001b[0m\u001b[0mstep\u001b[0m\u001b[0;34m(\u001b[0m\u001b[0;34m[\u001b[0m\u001b[0maction\u001b[0m\u001b[0;34m]\u001b[0m\u001b[0;34m)\u001b[0m\u001b[0;34m\u001b[0m\u001b[0;34m\u001b[0m\u001b[0m\n\u001b[0m\u001b[1;32m     33\u001b[0m         \u001b[0mentry\u001b[0m \u001b[0;34m=\u001b[0m \u001b[0;34m[\u001b[0m\u001b[0mself\u001b[0m\u001b[0;34m.\u001b[0m\u001b[0m_state\u001b[0m\u001b[0;34m[\u001b[0m\u001b[0;36m0\u001b[0m\u001b[0;34m]\u001b[0m\u001b[0;34m,\u001b[0m \u001b[0maction\u001b[0m\u001b[0;34m,\u001b[0m \u001b[0mreward\u001b[0m\u001b[0;34m[\u001b[0m\u001b[0;36m0\u001b[0m\u001b[0;34m]\u001b[0m\u001b[0;34m,\u001b[0m \u001b[0mnext_state\u001b[0m\u001b[0;34m[\u001b[0m\u001b[0;36m0\u001b[0m\u001b[0;34m]\u001b[0m\u001b[0;34m,\u001b[0m \u001b[0mint\u001b[0m\u001b[0;34m(\u001b[0m\u001b[0mdone\u001b[0m\u001b[0;34m[\u001b[0m\u001b[0;36m0\u001b[0m\u001b[0;34m]\u001b[0m\u001b[0;34m)\u001b[0m\u001b[0;34m,\u001b[0m \u001b[0minfo\u001b[0m\u001b[0;34m]\u001b[0m\u001b[0;34m\u001b[0m\u001b[0;34m\u001b[0m\u001b[0m\n\u001b[1;32m     34\u001b[0m         \u001b[0mself\u001b[0m\u001b[0;34m.\u001b[0m\u001b[0m_total_steps\u001b[0m \u001b[0;34m+=\u001b[0m \u001b[0;36m1\u001b[0m\u001b[0;34m\u001b[0m\u001b[0;34m\u001b[0m\u001b[0m\n",
      "\u001b[0;32m~/Workplace/DPC/deep_rl/component/envs.py\u001b[0m in \u001b[0;36mstep\u001b[0;34m(self, actions)\u001b[0m\n\u001b[1;32m    338\u001b[0m         \u001b[0;32mif\u001b[0m \u001b[0misinstance\u001b[0m\u001b[0;34m(\u001b[0m\u001b[0mself\u001b[0m\u001b[0;34m.\u001b[0m\u001b[0maction_space\u001b[0m\u001b[0;34m,\u001b[0m \u001b[0mBox\u001b[0m\u001b[0;34m)\u001b[0m\u001b[0;34m:\u001b[0m\u001b[0;34m\u001b[0m\u001b[0;34m\u001b[0m\u001b[0m\n\u001b[1;32m    339\u001b[0m             \u001b[0mactions\u001b[0m \u001b[0;34m=\u001b[0m \u001b[0mnp\u001b[0m\u001b[0;34m.\u001b[0m\u001b[0mclip\u001b[0m\u001b[0;34m(\u001b[0m\u001b[0mactions\u001b[0m\u001b[0;34m,\u001b[0m \u001b[0mself\u001b[0m\u001b[0;34m.\u001b[0m\u001b[0maction_space\u001b[0m\u001b[0;34m.\u001b[0m\u001b[0mlow\u001b[0m\u001b[0;34m,\u001b[0m \u001b[0mself\u001b[0m\u001b[0;34m.\u001b[0m\u001b[0maction_space\u001b[0m\u001b[0;34m.\u001b[0m\u001b[0mhigh\u001b[0m\u001b[0;34m)\u001b[0m\u001b[0;34m\u001b[0m\u001b[0;34m\u001b[0m\u001b[0m\n\u001b[0;32m--> 340\u001b[0;31m         \u001b[0;32mreturn\u001b[0m \u001b[0mself\u001b[0m\u001b[0;34m.\u001b[0m\u001b[0menv\u001b[0m\u001b[0;34m.\u001b[0m\u001b[0mstep\u001b[0m\u001b[0;34m(\u001b[0m\u001b[0mactions\u001b[0m\u001b[0;34m)\u001b[0m\u001b[0;34m\u001b[0m\u001b[0;34m\u001b[0m\u001b[0m\n\u001b[0m\u001b[1;32m    341\u001b[0m \u001b[0;34m\u001b[0m\u001b[0m\n\u001b[1;32m    342\u001b[0m \u001b[0;34m\u001b[0m\u001b[0m\n",
      "\u001b[0;32m~/Workplace/DPC/baselines/baselines/common/vec_env/vec_env.py\u001b[0m in \u001b[0;36mstep\u001b[0;34m(self, actions)\u001b[0m\n\u001b[1;32m    106\u001b[0m         \"\"\"\n\u001b[1;32m    107\u001b[0m         \u001b[0mself\u001b[0m\u001b[0;34m.\u001b[0m\u001b[0mstep_async\u001b[0m\u001b[0;34m(\u001b[0m\u001b[0mactions\u001b[0m\u001b[0;34m)\u001b[0m\u001b[0;34m\u001b[0m\u001b[0;34m\u001b[0m\u001b[0m\n\u001b[0;32m--> 108\u001b[0;31m         \u001b[0;32mreturn\u001b[0m \u001b[0mself\u001b[0m\u001b[0;34m.\u001b[0m\u001b[0mstep_wait\u001b[0m\u001b[0;34m(\u001b[0m\u001b[0;34m)\u001b[0m\u001b[0;34m\u001b[0m\u001b[0;34m\u001b[0m\u001b[0m\n\u001b[0m\u001b[1;32m    109\u001b[0m \u001b[0;34m\u001b[0m\u001b[0m\n\u001b[1;32m    110\u001b[0m     \u001b[0;32mdef\u001b[0m \u001b[0mrender\u001b[0m\u001b[0;34m(\u001b[0m\u001b[0mself\u001b[0m\u001b[0;34m,\u001b[0m \u001b[0mmode\u001b[0m\u001b[0;34m=\u001b[0m\u001b[0;34m'human'\u001b[0m\u001b[0;34m)\u001b[0m\u001b[0;34m:\u001b[0m\u001b[0;34m\u001b[0m\u001b[0;34m\u001b[0m\u001b[0m\n",
      "\u001b[0;32m~/Workplace/DPC/deep_rl/component/envs.py\u001b[0m in \u001b[0;36mstep_wait\u001b[0;34m(self)\u001b[0m\n\u001b[1;32m    288\u001b[0m         \u001b[0mdata\u001b[0m \u001b[0;34m=\u001b[0m \u001b[0;34m[\u001b[0m\u001b[0;34m]\u001b[0m\u001b[0;34m\u001b[0m\u001b[0;34m\u001b[0m\u001b[0m\n\u001b[1;32m    289\u001b[0m         \u001b[0;32mfor\u001b[0m \u001b[0mi\u001b[0m \u001b[0;32min\u001b[0m \u001b[0mrange\u001b[0m\u001b[0;34m(\u001b[0m\u001b[0mself\u001b[0m\u001b[0;34m.\u001b[0m\u001b[0mnum_envs\u001b[0m\u001b[0;34m)\u001b[0m\u001b[0;34m:\u001b[0m\u001b[0;34m\u001b[0m\u001b[0;34m\u001b[0m\u001b[0m\n\u001b[0;32m--> 290\u001b[0;31m             \u001b[0mobs\u001b[0m\u001b[0;34m,\u001b[0m \u001b[0mrew\u001b[0m\u001b[0;34m,\u001b[0m \u001b[0mdone\u001b[0m\u001b[0;34m,\u001b[0m \u001b[0minfo\u001b[0m \u001b[0;34m=\u001b[0m \u001b[0mself\u001b[0m\u001b[0;34m.\u001b[0m\u001b[0menvs\u001b[0m\u001b[0;34m[\u001b[0m\u001b[0mi\u001b[0m\u001b[0;34m]\u001b[0m\u001b[0;34m.\u001b[0m\u001b[0mstep\u001b[0m\u001b[0;34m(\u001b[0m\u001b[0mself\u001b[0m\u001b[0;34m.\u001b[0m\u001b[0mactions\u001b[0m\u001b[0;34m[\u001b[0m\u001b[0mi\u001b[0m\u001b[0;34m]\u001b[0m\u001b[0;34m)\u001b[0m\u001b[0;34m\u001b[0m\u001b[0;34m\u001b[0m\u001b[0m\n\u001b[0m\u001b[1;32m    291\u001b[0m             \u001b[0;32mif\u001b[0m \u001b[0mdone\u001b[0m\u001b[0;34m:\u001b[0m\u001b[0;34m\u001b[0m\u001b[0;34m\u001b[0m\u001b[0m\n\u001b[1;32m    292\u001b[0m                 \u001b[0mobs\u001b[0m \u001b[0;34m=\u001b[0m \u001b[0mself\u001b[0m\u001b[0;34m.\u001b[0m\u001b[0menvs\u001b[0m\u001b[0;34m[\u001b[0m\u001b[0mi\u001b[0m\u001b[0;34m]\u001b[0m\u001b[0;34m.\u001b[0m\u001b[0mreset\u001b[0m\u001b[0;34m(\u001b[0m\u001b[0;34m)\u001b[0m\u001b[0;34m\u001b[0m\u001b[0;34m\u001b[0m\u001b[0m\n",
      "\u001b[0;32m~/Workplace/DPC/deep_rl/component/envs.py\u001b[0m in \u001b[0;36mstep\u001b[0;34m(self, action)\u001b[0m\n\u001b[1;32m    179\u001b[0m \u001b[0;34m\u001b[0m\u001b[0m\n\u001b[1;32m    180\u001b[0m     \u001b[0;32mdef\u001b[0m \u001b[0mstep\u001b[0m\u001b[0;34m(\u001b[0m\u001b[0mself\u001b[0m\u001b[0;34m,\u001b[0m \u001b[0maction\u001b[0m\u001b[0;34m)\u001b[0m\u001b[0;34m:\u001b[0m\u001b[0;34m\u001b[0m\u001b[0;34m\u001b[0m\u001b[0m\n\u001b[0;32m--> 181\u001b[0;31m         \u001b[0mobs\u001b[0m\u001b[0;34m,\u001b[0m \u001b[0mreward\u001b[0m\u001b[0;34m,\u001b[0m \u001b[0mdone\u001b[0m\u001b[0;34m,\u001b[0m \u001b[0minfo\u001b[0m \u001b[0;34m=\u001b[0m \u001b[0mself\u001b[0m\u001b[0;34m.\u001b[0m\u001b[0menv\u001b[0m\u001b[0;34m.\u001b[0m\u001b[0mstep\u001b[0m\u001b[0;34m(\u001b[0m\u001b[0maction\u001b[0m\u001b[0;34m)\u001b[0m\u001b[0;34m\u001b[0m\u001b[0;34m\u001b[0m\u001b[0m\n\u001b[0m\u001b[1;32m    182\u001b[0m         \u001b[0mself\u001b[0m\u001b[0;34m.\u001b[0m\u001b[0mtotal_rewards\u001b[0m \u001b[0;34m+=\u001b[0m \u001b[0mreward\u001b[0m\u001b[0;34m\u001b[0m\u001b[0;34m\u001b[0m\u001b[0m\n\u001b[1;32m    183\u001b[0m         \u001b[0;32mif\u001b[0m \u001b[0mdone\u001b[0m\u001b[0;34m:\u001b[0m\u001b[0;34m\u001b[0m\u001b[0;34m\u001b[0m\u001b[0m\n",
      "\u001b[0;32m~/Workplace/DPC/deep_rl/component/fourrooms.py\u001b[0m in \u001b[0;36mstep\u001b[0;34m(self, action)\u001b[0m\n\u001b[1;32m    238\u001b[0m             \u001b[0;32mreturn\u001b[0m \u001b[0mtemp\u001b[0m\u001b[0;34m,\u001b[0m \u001b[0mreward\u001b[0m\u001b[0;34m,\u001b[0m \u001b[0mdone\u001b[0m\u001b[0;34m,\u001b[0m \u001b[0;34m{\u001b[0m\u001b[0;34m}\u001b[0m\u001b[0;34m\u001b[0m\u001b[0;34m\u001b[0m\u001b[0m\n\u001b[1;32m    239\u001b[0m         \u001b[0;32melif\u001b[0m\u001b[0;34m(\u001b[0m\u001b[0mself\u001b[0m\u001b[0;34m.\u001b[0m\u001b[0mconfig\u001b[0m \u001b[0;34m==\u001b[0m \u001b[0;36m2\u001b[0m\u001b[0;34m)\u001b[0m\u001b[0;34m:\u001b[0m\u001b[0;34m\u001b[0m\u001b[0;34m\u001b[0m\u001b[0m\n\u001b[0;32m--> 240\u001b[0;31m             \u001b[0;32mreturn\u001b[0m \u001b[0mself\u001b[0m\u001b[0;34m.\u001b[0m\u001b[0mrender_state\u001b[0m\u001b[0;34m(\u001b[0m\u001b[0;34m)\u001b[0m\u001b[0;34m.\u001b[0m\u001b[0mflatten\u001b[0m\u001b[0;34m(\u001b[0m\u001b[0;34m)\u001b[0m\u001b[0;34m,\u001b[0m \u001b[0mreward\u001b[0m\u001b[0;34m,\u001b[0m \u001b[0mdone\u001b[0m\u001b[0;34m,\u001b[0m \u001b[0;34m{\u001b[0m\u001b[0;34m}\u001b[0m\u001b[0;34m\u001b[0m\u001b[0;34m\u001b[0m\u001b[0m\n\u001b[0m\u001b[1;32m    241\u001b[0m \u001b[0;34m\u001b[0m\u001b[0m\n\u001b[1;32m    242\u001b[0m \u001b[0;32mclass\u001b[0m \u001b[0mFourRoomsMatrix\u001b[0m\u001b[0;34m(\u001b[0m\u001b[0mFourRooms\u001b[0m\u001b[0;34m)\u001b[0m\u001b[0;34m:\u001b[0m\u001b[0;34m\u001b[0m\u001b[0;34m\u001b[0m\u001b[0m\n",
      "\u001b[0;31mKeyboardInterrupt\u001b[0m: "
     ]
    },
    {
     "name": "stderr",
     "output_type": "stream",
     "text": [
      "  File \"/home/yiranwang/anaconda3/envs/DPC/lib/python3.7/multiprocessing/connection.py\", line 250, in recv\n",
      "    buf = self._recv_bytes()\n",
      "  File \"/home/yiranwang/anaconda3/envs/DPC/lib/python3.7/multiprocessing/connection.py\", line 407, in _recv_bytes\n",
      "    buf = self._recv(4)\n",
      "  File \"/home/yiranwang/anaconda3/envs/DPC/lib/python3.7/multiprocessing/connection.py\", line 379, in _recv\n",
      "    chunk = read(handle, remaining)\n",
      "KeyboardInterrupt\n"
     ]
    }
   ],
   "source": [
    "game = 'FourRoomsMatrix'\n",
    "agent = dqn_feature(game=game)"
   ]
  },
  {
   "cell_type": "code",
   "execution_count": 4,
   "metadata": {},
   "outputs": [],
   "source": [
    "# plt.figure(figsize=(18,6))\n",
    "# plt.plot(np.array(agent.returns)[:,0], np.array(agent.returns)[:,1], '.-')\n",
    "# plt.xlabel('timesteps'), plt.ylabel('returns')\n",
    "# plt.title('DQN performance on ' + game), plt.show()"
   ]
  },
  {
   "cell_type": "markdown",
   "metadata": {},
   "source": [
    "### Learning the state representations using APSF"
   ]
  },
  {
   "cell_type": "code",
   "execution_count": 4,
   "metadata": {},
   "outputs": [],
   "source": [
    "def avdsr_feature(**kwargs):\n",
    "    kwargs['tag'] = 'Training avDSR based on DQN agents'\n",
    "    generate_tag(kwargs)\n",
    "    kwargs.setdefault('log_level', 0)\n",
    "    config = Config()\n",
    "    config.merge(kwargs)\n",
    "\n",
    "    config.task_fn = lambda: Task(config.game)\n",
    "    config.eval_env = config.task_fn()\n",
    "    config.c = 1\n",
    "\n",
    "    config.optimizer_fn = lambda params: torch.optim.RMSprop(params, 0.002)\n",
    "    config.network_fn = lambda: SRNet(config.action_dim, SRIdentityBody(config.state_dim), \\\n",
    "                                      hidden_units=(), config=0) #CHECK\n",
    "    config.replay_fn = lambda: Replay(memory_size=int(3e5), batch_size=10)\n",
    "\n",
    "    config.random_action_prob = LinearSchedule(1, 1, 1e4) # CHECK\n",
    "    config.discount = 0.99\n",
    "    config.target_network_update_freq = 200\n",
    "    config.exploration_steps = 0\n",
    "    config.double_q = False\n",
    "    config.sgd_update_frequency = 4\n",
    "    config.gradient_clip = 5\n",
    "    config.max_steps = 1e5\n",
    "    config.async_actor = False\n",
    "    \n",
    "    agent = avDSRAgent(config, config.agents, style='DQN')\n",
    "    #run_steps function below\n",
    "    config = agent.config\n",
    "    agent_name = agent.__class__.__name__\n",
    "    t0 = time.time()\n",
    "    while True:\n",
    "        if config.log_interval and not agent.total_steps % config.log_interval:\n",
    "            agent.logger.info('steps %d, %.2f steps/s' % (agent.total_steps, config.log_interval / (time.time() - t0)))\n",
    "            t0 = time.time()\n",
    "        if config.max_steps and agent.total_steps >= config.max_steps:\n",
    "            return agent\n",
    "            break\n",
    "#         import pdb; pdb.set_trace()\n",
    "        agent.step()\n",
    "        agent.switch_task()"
   ]
  },
  {
   "cell_type": "code",
   "execution_count": 5,
   "metadata": {
    "scrolled": true
   },
   "outputs": [
    {
     "name": "stderr",
     "output_type": "stream",
     "text": [
      "2021-06-16 22:12:36,677 - root - INFO: steps 0, 466033777.78 steps/s\n"
     ]
    },
    {
     "name": "stdout",
     "output_type": "stream",
     "text": [
      "starting making env\n",
      "starting making env\n"
     ]
    },
    {
     "name": "stderr",
     "output_type": "stream",
     "text": [
      "2021-06-16 22:12:37,572 - root - INFO: steps 1000, 1118.03 steps/s\n",
      "2021-06-16 22:12:38,303 - root - INFO: steps 2000, 1369.33 steps/s\n",
      "2021-06-16 22:12:39,078 - root - INFO: steps 3000, 1290.50 steps/s\n",
      "2021-06-16 22:12:39,808 - root - INFO: steps 4000, 1371.23 steps/s\n",
      "2021-06-16 22:12:40,538 - root - INFO: steps 5000, 1370.60 steps/s\n",
      "2021-06-16 22:12:41,267 - root - INFO: steps 6000, 1373.59 steps/s\n",
      "2021-06-16 22:12:42,006 - root - INFO: steps 7000, 1352.55 steps/s\n",
      "2021-06-16 22:12:42,762 - root - INFO: steps 8000, 1324.67 steps/s\n",
      "2021-06-16 22:12:43,504 - root - INFO: steps 9000, 1348.74 steps/s\n",
      "2021-06-16 22:12:44,233 - root - INFO: steps 10000, 1372.66 steps/s\n",
      "2021-06-16 22:12:45,062 - root - INFO: steps 11000, 1206.76 steps/s\n",
      "2021-06-16 22:12:45,756 - root - INFO: steps 12000, 1441.48 steps/s\n",
      "2021-06-16 22:12:46,590 - root - INFO: steps 13000, 1200.78 steps/s\n",
      "2021-06-16 22:12:47,294 - root - INFO: steps 14000, 1421.52 steps/s\n",
      "2021-06-16 22:12:48,121 - root - INFO: steps 15000, 1210.24 steps/s\n",
      "2021-06-16 22:12:48,934 - root - INFO: steps 16000, 1230.26 steps/s\n",
      "2021-06-16 22:12:49,646 - root - INFO: steps 17000, 1406.39 steps/s\n",
      "2021-06-16 22:12:50,356 - root - INFO: steps 18000, 1408.99 steps/s\n",
      "2021-06-16 22:12:51,059 - root - INFO: steps 19000, 1423.17 steps/s\n",
      "2021-06-16 22:12:52,108 - root - INFO: steps 20000, 953.89 steps/s\n",
      "2021-06-16 22:12:53,309 - root - INFO: steps 21000, 833.24 steps/s\n",
      "2021-06-16 22:12:54,073 - root - INFO: steps 22000, 1309.26 steps/s\n",
      "2021-06-16 22:12:55,281 - root - INFO: steps 23000, 828.17 steps/s\n",
      "2021-06-16 22:12:56,514 - root - INFO: steps 24000, 811.27 steps/s\n",
      "2021-06-16 22:12:57,590 - root - INFO: steps 25000, 930.52 steps/s\n",
      "2021-06-16 22:12:58,366 - root - INFO: steps 26000, 1288.57 steps/s\n",
      "2021-06-16 22:12:59,230 - root - INFO: steps 27000, 1158.39 steps/s\n",
      "2021-06-16 22:13:00,342 - root - INFO: steps 28000, 899.75 steps/s\n",
      "2021-06-16 22:13:01,159 - root - INFO: steps 29000, 1226.17 steps/s\n",
      "2021-06-16 22:13:01,906 - root - INFO: steps 30000, 1339.34 steps/s\n",
      "2021-06-16 22:13:03,321 - root - INFO: steps 31000, 706.73 steps/s\n",
      "2021-06-16 22:13:04,225 - root - INFO: steps 32000, 1107.89 steps/s\n",
      "2021-06-16 22:13:04,913 - root - INFO: steps 33000, 1453.97 steps/s\n",
      "2021-06-16 22:13:05,919 - root - INFO: steps 34000, 994.79 steps/s\n",
      "2021-06-16 22:13:06,609 - root - INFO: steps 35000, 1449.57 steps/s\n",
      "2021-06-16 22:13:07,292 - root - INFO: steps 36000, 1464.70 steps/s\n",
      "2021-06-16 22:13:08,500 - root - INFO: steps 37000, 828.20 steps/s\n",
      "2021-06-16 22:13:09,631 - root - INFO: steps 38000, 884.98 steps/s\n",
      "2021-06-16 22:13:10,394 - root - INFO: steps 39000, 1311.63 steps/s\n",
      "2021-06-16 22:13:11,318 - root - INFO: steps 40000, 1082.95 steps/s\n",
      "2021-06-16 22:13:12,750 - root - INFO: steps 41000, 698.77 steps/s\n",
      "2021-06-16 22:13:14,151 - root - INFO: steps 42000, 714.23 steps/s\n",
      "2021-06-16 22:13:15,229 - root - INFO: steps 43000, 927.37 steps/s\n",
      "2021-06-16 22:13:16,098 - root - INFO: steps 44000, 1151.56 steps/s\n",
      "2021-06-16 22:13:16,887 - root - INFO: steps 45000, 1268.69 steps/s\n",
      "2021-06-16 22:13:17,896 - root - INFO: steps 46000, 992.33 steps/s\n",
      "2021-06-16 22:13:18,885 - root - INFO: steps 47000, 1011.37 steps/s\n",
      "2021-06-16 22:13:19,809 - root - INFO: steps 48000, 1083.03 steps/s\n",
      "2021-06-16 22:13:20,499 - root - INFO: steps 49000, 1449.54 steps/s\n",
      "2021-06-16 22:13:21,437 - root - INFO: steps 50000, 1066.52 steps/s\n",
      "2021-06-16 22:13:22,263 - root - INFO: steps 51000, 1212.69 steps/s\n",
      "2021-06-16 22:13:23,423 - root - INFO: steps 52000, 862.17 steps/s\n",
      "2021-06-16 22:13:24,150 - root - INFO: steps 53000, 1376.12 steps/s\n",
      "2021-06-16 22:13:24,830 - root - INFO: steps 54000, 1471.70 steps/s\n",
      "2021-06-16 22:13:25,935 - root - INFO: steps 55000, 905.61 steps/s\n",
      "2021-06-16 22:13:26,925 - root - INFO: steps 56000, 1010.69 steps/s\n",
      "2021-06-16 22:13:28,102 - root - INFO: steps 57000, 850.42 steps/s\n",
      "2021-06-16 22:13:29,500 - root - INFO: steps 58000, 715.45 steps/s\n",
      "2021-06-16 22:13:30,329 - root - INFO: steps 59000, 1206.70 steps/s\n",
      "2021-06-16 22:13:31,177 - root - INFO: steps 60000, 1181.43 steps/s\n",
      "2021-06-16 22:13:32,448 - root - INFO: steps 61000, 787.20 steps/s\n",
      "2021-06-16 22:13:33,319 - root - INFO: steps 62000, 1148.77 steps/s\n",
      "2021-06-16 22:13:34,276 - root - INFO: steps 63000, 1045.39 steps/s\n",
      "2021-06-16 22:13:35,439 - root - INFO: steps 64000, 860.34 steps/s\n",
      "2021-06-16 22:13:36,684 - root - INFO: steps 65000, 803.27 steps/s\n",
      "2021-06-16 22:13:37,933 - root - INFO: steps 66000, 801.56 steps/s\n",
      "2021-06-16 22:13:39,087 - root - INFO: steps 67000, 866.41 steps/s\n",
      "2021-06-16 22:13:40,093 - root - INFO: steps 68000, 995.11 steps/s\n",
      "2021-06-16 22:13:40,843 - root - INFO: steps 69000, 1333.63 steps/s\n",
      "2021-06-16 22:13:42,082 - root - INFO: steps 70000, 808.27 steps/s\n",
      "2021-06-16 22:13:42,993 - root - INFO: steps 71000, 1098.54 steps/s\n",
      "2021-06-16 22:13:43,776 - root - INFO: steps 72000, 1278.13 steps/s\n",
      "2021-06-16 22:13:44,529 - root - INFO: steps 73000, 1328.31 steps/s\n",
      "2021-06-16 22:13:45,616 - root - INFO: steps 74000, 920.25 steps/s\n",
      "2021-06-16 22:13:46,714 - root - INFO: steps 75000, 911.66 steps/s\n",
      "2021-06-16 22:13:47,522 - root - INFO: steps 76000, 1238.13 steps/s\n",
      "2021-06-16 22:13:48,236 - root - INFO: steps 77000, 1402.25 steps/s\n",
      "2021-06-16 22:13:49,026 - root - INFO: steps 78000, 1267.13 steps/s\n",
      "2021-06-16 22:13:49,863 - root - INFO: steps 79000, 1194.70 steps/s\n",
      "2021-06-16 22:13:51,010 - root - INFO: steps 80000, 872.52 steps/s\n",
      "2021-06-16 22:13:52,235 - root - INFO: steps 81000, 816.91 steps/s\n",
      "2021-06-16 22:13:53,143 - root - INFO: steps 82000, 1101.58 steps/s\n",
      "2021-06-16 22:13:54,471 - root - INFO: steps 83000, 753.23 steps/s\n",
      "2021-06-16 22:13:55,302 - root - INFO: steps 84000, 1205.37 steps/s\n",
      "2021-06-16 22:13:56,544 - root - INFO: steps 85000, 805.36 steps/s\n",
      "2021-06-16 22:13:57,876 - root - INFO: steps 86000, 751.02 steps/s\n",
      "2021-06-16 22:13:59,302 - root - INFO: steps 87000, 701.67 steps/s\n",
      "2021-06-16 22:14:00,657 - root - INFO: steps 88000, 737.92 steps/s\n",
      "2021-06-16 22:14:01,767 - root - INFO: steps 89000, 901.32 steps/s\n",
      "2021-06-16 22:14:03,185 - root - INFO: steps 90000, 705.69 steps/s\n",
      "2021-06-16 22:14:04,616 - root - INFO: steps 91000, 699.12 steps/s\n",
      "2021-06-16 22:14:06,045 - root - INFO: steps 92000, 700.31 steps/s\n",
      "2021-06-16 22:14:07,470 - root - INFO: steps 93000, 701.94 steps/s\n",
      "2021-06-16 22:14:08,637 - root - INFO: steps 94000, 857.30 steps/s\n",
      "2021-06-16 22:14:09,403 - root - INFO: steps 95000, 1307.52 steps/s\n",
      "2021-06-16 22:14:10,112 - root - INFO: steps 96000, 1411.87 steps/s\n",
      "2021-06-16 22:14:10,883 - root - INFO: steps 97000, 1297.69 steps/s\n",
      "2021-06-16 22:14:11,646 - root - INFO: steps 98000, 1312.16 steps/s\n",
      "2021-06-16 22:14:12,368 - root - INFO: steps 99000, 1386.19 steps/s\n",
      "2021-06-16 22:14:13,117 - root - INFO: steps 100000, 1334.61 steps/s\n"
     ]
    }
   ],
   "source": [
    "avdsr = avdsr_feature(game='FourRoomsMatrixNoTerm', agents=[agent], choice=0)"
   ]
  },
  {
   "cell_type": "code",
   "execution_count": 6,
   "metadata": {},
   "outputs": [
    {
     "data": {
      "image/png": "[encoded data removed]",
      "text/plain": [
       "<Figure size 432x288 with 1 Axes>"
      ]
     },
     "metadata": {
      "needs_background": "light"
     },
     "output_type": "display_data"
    },
    {
     "data": {
      "text/plain": [
       "(Text(0.5, 1.0, '5e4 timesteps, smoothing=100'), None)"
      ]
     },
     "execution_count": 6,
     "metadata": {},
     "output_type": "execute_result"
    }
   ],
   "source": [
    "loss_lr_em3 = avdsr.loss_vec\n",
    "kernel = 100\n",
    "plt.plot(convolve(avdsr.loss_vec, kernel))\n",
    "plt.title('5e4 timesteps, smoothing=' + str(kernel)), plt.show()\n",
    "# plt.subplot(122), plt.plot(avdsr.retu)"
   ]
  },
  {
   "cell_type": "code",
   "execution_count": 9,
   "metadata": {},
   "outputs": [
    {
     "data": {
      "image/png": "[encoded data removed]",
      "text/plain": [
       "<Figure size 432x288 with 1 Axes>"
      ]
     },
     "metadata": {
      "needs_background": "light"
     },
     "output_type": "display_data"
    },
    {
     "data": {
      "image/png": "[encoded data removed]",
      "text/plain": [
       "<Figure size 600x400 with 8 Axes>"
      ]
     },
     "metadata": {
      "needs_background": "light"
     },
     "output_type": "display_data"
    }
   ],
   "source": [
    "from deep_rl.component.fourrooms import FourRoomsMatrix\n",
    "env = FourRoomsMatrix()\n",
    "state = env.reset()\n",
    "env.step(env.action_space.sample())\n",
    "env.step(env.action_space.sample())\n",
    "env.step(env.action_space.sample())\n",
    "# env.current_cell = (5,5)\n",
    "state, _, _, _ = env.step(env.action_space.sample())\n",
    "plt.imshow(env.render()); plt.title('input state'), plt.show()\n",
    "_, out, _ = avdsr.network(tensor(state).unsqueeze(0))\n",
    "\n",
    "dirs = {0: 'up', 1: 'down', 2:'left', 3:'right'}\n",
    "\n",
    "plt.figure(dpi=100)\n",
    "psi = out.cpu().detach().numpy()\n",
    "for i in range(4):\n",
    "    psi_a = psi[0,i,:]\n",
    "    plt.subplot(2,2,i+1)\n",
    "    plt.imshow(psi_a.reshape((13,13)))\n",
    "    plt.title(dirs[i])\n",
    "    plt.colorbar()\n",
    "\n",
    "plt.show()"
   ]
  },
  {
   "cell_type": "code",
   "execution_count": 9,
   "metadata": {},
   "outputs": [
    {
     "data": {
      "text/plain": [
       "169"
      ]
     },
     "execution_count": 9,
     "metadata": {},
     "output_type": "execute_result"
    }
   ],
   "source": [
    "params_count(avdsr.network.psi2q)"
   ]
  },
  {
   "cell_type": "markdown",
   "metadata": {},
   "source": [
    "### Comparing performance:\n",
    "\n",
    "Likely to improve if DSR is trained for longer with a smaller learning rate\n",
    "\n",
    "- DQN: 169 -> 676 -> 4\n",
    "- avDSR: 169 -> 676 -> 4"
   ]
  },
  {
   "cell_type": "code",
   "execution_count": 10,
   "metadata": {},
   "outputs": [],
   "source": [
    "def dsr_feature_init(ref,**kwargs):\n",
    "    generate_tag(kwargs)\n",
    "    kwargs.setdefault('log_level', 0)\n",
    "    config = Config()\n",
    "    config.merge(kwargs)\n",
    "\n",
    "    config.task_fn = lambda: Task(config.game)\n",
    "    config.eval_env = config.task_fn()\n",
    "    config.c = 1\n",
    "\n",
    "    config.optimizer_fn = lambda params: torch.optim.RMSprop(params, 0.001)\n",
    "    config.network_fn = lambda: SRNet(config.action_dim, SRIdentityBody(config.state_dim), config=config.style)\n",
    "    config.replay_fn = lambda: AsyncReplay(memory_size=int(1e5), batch_size=10)\n",
    "\n",
    "    config.random_action_prob = LinearSchedule(1.0, 0.1, 3e4)\n",
    "    config.discount = 0.99\n",
    "    config.target_network_update_freq = 200\n",
    "    config.exploration_steps = 0\n",
    "    # config.double_q = True\n",
    "    config.double_q = False\n",
    "    config.sgd_update_frequency = 4\n",
    "    config.gradient_clip = 5\n",
    "    config.eval_interval = int(5e3)\n",
    "    config.max_steps = 5e4\n",
    "    config.async_actor = False\n",
    "    \n",
    "    agent = DSRAgent(config)\n",
    "    #run_steps function below\n",
    "    config = agent.config\n",
    "    agent_name = agent.__class__.__name__\n",
    "    if(ref is not None):\n",
    "        print(agent.network.load_state_dict(ref.network.state_dict(), strict=False))\n",
    "    t0 = time.time()\n",
    "    while True:\n",
    "        if config.save_interval and not agent.total_steps % config.save_interval:\n",
    "            agent.save('data/%s-%s-%d' % (agent_name, config.tag, agent.total_steps))\n",
    "        if config.log_interval and not agent.total_steps % config.log_interval:\n",
    "#             agent.logger.info('steps %d, %.2f steps/s' % (agent.total_steps, config.log_interval / (time.time() - t0)))\n",
    "            t0 = time.time()\n",
    "        if config.eval_interval and not agent.total_steps % config.eval_interval:\n",
    "            agent.eval_episodes()\n",
    "        if config.max_steps and agent.total_steps >= config.max_steps:\n",
    "            return agent\n",
    "            break\n",
    "#         import pdb; pdb.set_trace()\n",
    "        agent.step()\n",
    "        agent.switch_task()\n",
    "        \n",
    "    return agent"
   ]
  },
  {
   "cell_type": "code",
   "execution_count": 11,
   "metadata": {},
   "outputs": [],
   "source": [
    "def runNAgents(function, runs, store=True, freeze=0, ref=None, style=0):\n",
    "    r_dqn = []; t_dqn = []\n",
    "    if(store):\n",
    "        agents = []\n",
    "    for i in trange(runs, desc='runs'): \n",
    "        agent = function(game='FourRoomsMatrix', freeze=freeze, ref=ref, style=style)\n",
    "        rewards = np.array(agent.returns)\n",
    "        t_dqn.append(rewards[:,0])\n",
    "        r_dqn.append(rewards[:,1])\n",
    "        if(store):\n",
    "            agents.append(agent)\n",
    "            \n",
    "    if(store):\n",
    "        return agents, t_dqn, r_dqn\n",
    "    \n",
    "    return t_dqn, r_dqn"
   ]
  },
  {
   "cell_type": "code",
   "execution_count": 12,
   "metadata": {},
   "outputs": [
    {
     "name": "stderr",
     "output_type": "stream",
     "text": [
      "runs:   0%|          | 0/2 [00:00<?, ?it/s]"
     ]
    },
    {
     "name": "stdout",
     "output_type": "stream",
     "text": [
      "starting making env\n",
      "starting making env\n",
      "<All keys matched successfully>\n"
     ]
    },
    {
     "name": "stderr",
     "output_type": "stream",
     "text": [
      "2021-06-16 22:17:27,995 - root - INFO: steps 0, episodic_return_test -200.00(0.00)\n",
      "Process AsyncReplay-4:\n",
      "Traceback (most recent call last):\n",
      "  File \"/home/yiranwang/anaconda3/envs/DPC/lib/python3.7/multiprocessing/process.py\", line 297, in _bootstrap\n",
      "    self.run()\n",
      "  File \"../deep_rl/component/replay.py\", line 138, in run\n",
      "    set_up_cache()\n",
      "  File \"../deep_rl/component/replay.py\", line 113, in set_up_cache\n",
      "    batch_data = [tensor(x) for x in batch_data]\n",
      "  File \"../deep_rl/component/replay.py\", line 113, in <listcomp>\n",
      "    batch_data = [tensor(x) for x in batch_data]\n",
      "  File \"../deep_rl/utils/torch_utils.py\", line 24, in tensor\n",
      "    x = torch.tensor(x, device=Config.DEVICE, dtype=torch.float32)\n",
      "  File \"/home/yiranwang/anaconda3/envs/DPC/lib/python3.7/site-packages/torch/cuda/__init__.py\", line 164, in _lazy_init\n",
      "    \"Cannot re-initialize CUDA in forked subprocess. \" + msg)\n",
      "RuntimeError: Cannot re-initialize CUDA in forked subprocess. To use CUDA with multiprocessing, you must use the 'spawn' start method\n",
      "runs:   0%|          | 0/2 [00:11<?, ?it/s]\n"
     ]
    },
    {
     "ename": "KeyboardInterrupt",
     "evalue": "",
     "output_type": "error",
     "traceback": [
      "\u001b[0;31m---------------------------------------------------------------------------\u001b[0m",
      "\u001b[0;31mKeyboardInterrupt\u001b[0m                         Traceback (most recent call last)",
      "\u001b[0;32m<ipython-input-12-e90d419fb1ed>\u001b[0m in \u001b[0;36m<module>\u001b[0;34m\u001b[0m\n\u001b[0;32m----> 1\u001b[0;31m \u001b[0mr_c0\u001b[0m \u001b[0;34m=\u001b[0m \u001b[0mrunNAgents\u001b[0m\u001b[0;34m(\u001b[0m\u001b[0mdsr_feature_init\u001b[0m\u001b[0;34m,\u001b[0m \u001b[0mruns\u001b[0m\u001b[0;34m=\u001b[0m\u001b[0;36m2\u001b[0m\u001b[0;34m,\u001b[0m \u001b[0mfreeze\u001b[0m\u001b[0;34m=\u001b[0m\u001b[0;36m2\u001b[0m\u001b[0;34m,\u001b[0m \u001b[0mref\u001b[0m\u001b[0;34m=\u001b[0m\u001b[0mavdsr\u001b[0m\u001b[0;34m,\u001b[0m \u001b[0mstyle\u001b[0m\u001b[0;34m=\u001b[0m\u001b[0;36m0\u001b[0m\u001b[0;34m)\u001b[0m\u001b[0;34m\u001b[0m\u001b[0;34m\u001b[0m\u001b[0m\n\u001b[0m\u001b[1;32m      2\u001b[0m \u001b[0mr_c1\u001b[0m \u001b[0;34m=\u001b[0m \u001b[0mrunNAgents\u001b[0m\u001b[0;34m(\u001b[0m\u001b[0mdsr_feature_init\u001b[0m\u001b[0;34m,\u001b[0m \u001b[0mruns\u001b[0m\u001b[0;34m=\u001b[0m\u001b[0;36m2\u001b[0m\u001b[0;34m,\u001b[0m \u001b[0mfreeze\u001b[0m\u001b[0;34m=\u001b[0m\u001b[0;36m2\u001b[0m\u001b[0;34m,\u001b[0m \u001b[0mref\u001b[0m\u001b[0;34m=\u001b[0m\u001b[0mavdsr\u001b[0m\u001b[0;34m,\u001b[0m \u001b[0mstyle\u001b[0m\u001b[0;34m=\u001b[0m\u001b[0;36m1\u001b[0m\u001b[0;34m)\u001b[0m\u001b[0;34m\u001b[0m\u001b[0;34m\u001b[0m\u001b[0m\n\u001b[1;32m      3\u001b[0m \u001b[0mr_dqn_base_16\u001b[0m \u001b[0;34m=\u001b[0m \u001b[0mrunNAgents\u001b[0m\u001b[0;34m(\u001b[0m\u001b[0mdqn_feature\u001b[0m\u001b[0;34m,\u001b[0m \u001b[0mruns\u001b[0m\u001b[0;34m=\u001b[0m\u001b[0;36m2\u001b[0m\u001b[0;34m)\u001b[0m\u001b[0;34m\u001b[0m\u001b[0;34m\u001b[0m\u001b[0m\n",
      "\u001b[0;32m<ipython-input-11-3a4fa20c2787>\u001b[0m in \u001b[0;36mrunNAgents\u001b[0;34m(function, runs, store, freeze, ref, style)\u001b[0m\n\u001b[1;32m      4\u001b[0m         \u001b[0magents\u001b[0m \u001b[0;34m=\u001b[0m \u001b[0;34m[\u001b[0m\u001b[0;34m]\u001b[0m\u001b[0;34m\u001b[0m\u001b[0;34m\u001b[0m\u001b[0m\n\u001b[1;32m      5\u001b[0m     \u001b[0;32mfor\u001b[0m \u001b[0mi\u001b[0m \u001b[0;32min\u001b[0m \u001b[0mtrange\u001b[0m\u001b[0;34m(\u001b[0m\u001b[0mruns\u001b[0m\u001b[0;34m,\u001b[0m \u001b[0mdesc\u001b[0m\u001b[0;34m=\u001b[0m\u001b[0;34m'runs'\u001b[0m\u001b[0;34m)\u001b[0m\u001b[0;34m:\u001b[0m\u001b[0;34m\u001b[0m\u001b[0;34m\u001b[0m\u001b[0m\n\u001b[0;32m----> 6\u001b[0;31m         \u001b[0magent\u001b[0m \u001b[0;34m=\u001b[0m \u001b[0mfunction\u001b[0m\u001b[0;34m(\u001b[0m\u001b[0mgame\u001b[0m\u001b[0;34m=\u001b[0m\u001b[0;34m'FourRoomsMatrix'\u001b[0m\u001b[0;34m,\u001b[0m \u001b[0mfreeze\u001b[0m\u001b[0;34m=\u001b[0m\u001b[0mfreeze\u001b[0m\u001b[0;34m,\u001b[0m \u001b[0mref\u001b[0m\u001b[0;34m=\u001b[0m\u001b[0mref\u001b[0m\u001b[0;34m,\u001b[0m \u001b[0mstyle\u001b[0m\u001b[0;34m=\u001b[0m\u001b[0mstyle\u001b[0m\u001b[0;34m)\u001b[0m\u001b[0;34m\u001b[0m\u001b[0;34m\u001b[0m\u001b[0m\n\u001b[0m\u001b[1;32m      7\u001b[0m         \u001b[0mrewards\u001b[0m \u001b[0;34m=\u001b[0m \u001b[0mnp\u001b[0m\u001b[0;34m.\u001b[0m\u001b[0marray\u001b[0m\u001b[0;34m(\u001b[0m\u001b[0magent\u001b[0m\u001b[0;34m.\u001b[0m\u001b[0mreturns\u001b[0m\u001b[0;34m)\u001b[0m\u001b[0;34m\u001b[0m\u001b[0;34m\u001b[0m\u001b[0m\n\u001b[1;32m      8\u001b[0m         \u001b[0mt_dqn\u001b[0m\u001b[0;34m.\u001b[0m\u001b[0mappend\u001b[0m\u001b[0;34m(\u001b[0m\u001b[0mrewards\u001b[0m\u001b[0;34m[\u001b[0m\u001b[0;34m:\u001b[0m\u001b[0;34m,\u001b[0m\u001b[0;36m0\u001b[0m\u001b[0;34m]\u001b[0m\u001b[0;34m)\u001b[0m\u001b[0;34m\u001b[0m\u001b[0;34m\u001b[0m\u001b[0m\n",
      "\u001b[0;32m<ipython-input-10-90def21f798b>\u001b[0m in \u001b[0;36mdsr_feature_init\u001b[0;34m(ref, **kwargs)\u001b[0m\n\u001b[1;32m     44\u001b[0m             \u001b[0;32mbreak\u001b[0m\u001b[0;34m\u001b[0m\u001b[0;34m\u001b[0m\u001b[0m\n\u001b[1;32m     45\u001b[0m \u001b[0;31m#         import pdb; pdb.set_trace()\u001b[0m\u001b[0;34m\u001b[0m\u001b[0;34m\u001b[0m\u001b[0;34m\u001b[0m\u001b[0m\n\u001b[0;32m---> 46\u001b[0;31m         \u001b[0magent\u001b[0m\u001b[0;34m.\u001b[0m\u001b[0mstep\u001b[0m\u001b[0;34m(\u001b[0m\u001b[0;34m)\u001b[0m\u001b[0;34m\u001b[0m\u001b[0;34m\u001b[0m\u001b[0m\n\u001b[0m\u001b[1;32m     47\u001b[0m         \u001b[0magent\u001b[0m\u001b[0;34m.\u001b[0m\u001b[0mswitch_task\u001b[0m\u001b[0;34m(\u001b[0m\u001b[0;34m)\u001b[0m\u001b[0;34m\u001b[0m\u001b[0;34m\u001b[0m\u001b[0m\n\u001b[1;32m     48\u001b[0m \u001b[0;34m\u001b[0m\u001b[0m\n",
      "\u001b[0;32m~/Workplace/DPC/deep_rl/agent/DSR_agent.py\u001b[0m in \u001b[0;36mstep\u001b[0;34m(self)\u001b[0m\n\u001b[1;32m    122\u001b[0m \u001b[0;34m\u001b[0m\u001b[0m\n\u001b[1;32m    123\u001b[0m             \u001b[0;31m# Sampling from replay buffer\u001b[0m\u001b[0;34m\u001b[0m\u001b[0;34m\u001b[0m\u001b[0;34m\u001b[0m\u001b[0m\n\u001b[0;32m--> 124\u001b[0;31m             \u001b[0mexperiences\u001b[0m \u001b[0;34m=\u001b[0m \u001b[0mself\u001b[0m\u001b[0;34m.\u001b[0m\u001b[0mreplay\u001b[0m\u001b[0;34m.\u001b[0m\u001b[0msample\u001b[0m\u001b[0;34m(\u001b[0m\u001b[0;34m)\u001b[0m\u001b[0;34m\u001b[0m\u001b[0;34m\u001b[0m\u001b[0m\n\u001b[0m\u001b[1;32m    125\u001b[0m             \u001b[0mstates\u001b[0m\u001b[0;34m,\u001b[0m \u001b[0mactions\u001b[0m\u001b[0;34m,\u001b[0m \u001b[0mrewards\u001b[0m\u001b[0;34m,\u001b[0m \u001b[0mnext_states\u001b[0m\u001b[0;34m,\u001b[0m \u001b[0mterminals\u001b[0m \u001b[0;34m=\u001b[0m \u001b[0mexperiences\u001b[0m\u001b[0;34m\u001b[0m\u001b[0;34m\u001b[0m\u001b[0m\n\u001b[1;32m    126\u001b[0m \u001b[0;34m\u001b[0m\u001b[0m\n",
      "\u001b[0;32m~/Workplace/DPC/deep_rl/component/replay.py\u001b[0m in \u001b[0;36msample\u001b[0;34m(self)\u001b[0m\n\u001b[1;32m    161\u001b[0m     \u001b[0;32mdef\u001b[0m \u001b[0msample\u001b[0m\u001b[0;34m(\u001b[0m\u001b[0mself\u001b[0m\u001b[0;34m)\u001b[0m\u001b[0;34m:\u001b[0m\u001b[0;34m\u001b[0m\u001b[0;34m\u001b[0m\u001b[0m\n\u001b[1;32m    162\u001b[0m         \u001b[0mself\u001b[0m\u001b[0;34m.\u001b[0m\u001b[0mpipe\u001b[0m\u001b[0;34m.\u001b[0m\u001b[0msend\u001b[0m\u001b[0;34m(\u001b[0m\u001b[0;34m[\u001b[0m\u001b[0mself\u001b[0m\u001b[0;34m.\u001b[0m\u001b[0mSAMPLE\u001b[0m\u001b[0;34m,\u001b[0m \u001b[0;32mNone\u001b[0m\u001b[0;34m]\u001b[0m\u001b[0;34m)\u001b[0m\u001b[0;34m\u001b[0m\u001b[0;34m\u001b[0m\u001b[0m\n\u001b[0;32m--> 163\u001b[0;31m         \u001b[0mcache_id\u001b[0m\u001b[0;34m,\u001b[0m \u001b[0mdata\u001b[0m \u001b[0;34m=\u001b[0m \u001b[0mself\u001b[0m\u001b[0;34m.\u001b[0m\u001b[0mpipe\u001b[0m\u001b[0;34m.\u001b[0m\u001b[0mrecv\u001b[0m\u001b[0;34m(\u001b[0m\u001b[0;34m)\u001b[0m\u001b[0;34m\u001b[0m\u001b[0;34m\u001b[0m\u001b[0m\n\u001b[0m\u001b[1;32m    164\u001b[0m         \u001b[0;32mif\u001b[0m \u001b[0mdata\u001b[0m \u001b[0;32mis\u001b[0m \u001b[0;32mnot\u001b[0m \u001b[0;32mNone\u001b[0m\u001b[0;34m:\u001b[0m\u001b[0;34m\u001b[0m\u001b[0;34m\u001b[0m\u001b[0m\n\u001b[1;32m    165\u001b[0m             \u001b[0mself\u001b[0m\u001b[0;34m.\u001b[0m\u001b[0mcache\u001b[0m \u001b[0;34m=\u001b[0m \u001b[0mdata\u001b[0m\u001b[0;34m\u001b[0m\u001b[0;34m\u001b[0m\u001b[0m\n",
      "\u001b[0;32m~/anaconda3/envs/DPC/lib/python3.7/multiprocessing/connection.py\u001b[0m in \u001b[0;36mrecv\u001b[0;34m(self)\u001b[0m\n\u001b[1;32m    248\u001b[0m         \u001b[0mself\u001b[0m\u001b[0;34m.\u001b[0m\u001b[0m_check_closed\u001b[0m\u001b[0;34m(\u001b[0m\u001b[0;34m)\u001b[0m\u001b[0;34m\u001b[0m\u001b[0;34m\u001b[0m\u001b[0m\n\u001b[1;32m    249\u001b[0m         \u001b[0mself\u001b[0m\u001b[0;34m.\u001b[0m\u001b[0m_check_readable\u001b[0m\u001b[0;34m(\u001b[0m\u001b[0;34m)\u001b[0m\u001b[0;34m\u001b[0m\u001b[0;34m\u001b[0m\u001b[0m\n\u001b[0;32m--> 250\u001b[0;31m         \u001b[0mbuf\u001b[0m \u001b[0;34m=\u001b[0m \u001b[0mself\u001b[0m\u001b[0;34m.\u001b[0m\u001b[0m_recv_bytes\u001b[0m\u001b[0;34m(\u001b[0m\u001b[0;34m)\u001b[0m\u001b[0;34m\u001b[0m\u001b[0;34m\u001b[0m\u001b[0m\n\u001b[0m\u001b[1;32m    251\u001b[0m         \u001b[0;32mreturn\u001b[0m \u001b[0m_ForkingPickler\u001b[0m\u001b[0;34m.\u001b[0m\u001b[0mloads\u001b[0m\u001b[0;34m(\u001b[0m\u001b[0mbuf\u001b[0m\u001b[0;34m.\u001b[0m\u001b[0mgetbuffer\u001b[0m\u001b[0;34m(\u001b[0m\u001b[0;34m)\u001b[0m\u001b[0;34m)\u001b[0m\u001b[0;34m\u001b[0m\u001b[0;34m\u001b[0m\u001b[0m\n\u001b[1;32m    252\u001b[0m \u001b[0;34m\u001b[0m\u001b[0m\n",
      "\u001b[0;32m~/anaconda3/envs/DPC/lib/python3.7/multiprocessing/connection.py\u001b[0m in \u001b[0;36m_recv_bytes\u001b[0;34m(self, maxsize)\u001b[0m\n\u001b[1;32m    405\u001b[0m \u001b[0;34m\u001b[0m\u001b[0m\n\u001b[1;32m    406\u001b[0m     \u001b[0;32mdef\u001b[0m \u001b[0m_recv_bytes\u001b[0m\u001b[0;34m(\u001b[0m\u001b[0mself\u001b[0m\u001b[0;34m,\u001b[0m \u001b[0mmaxsize\u001b[0m\u001b[0;34m=\u001b[0m\u001b[0;32mNone\u001b[0m\u001b[0;34m)\u001b[0m\u001b[0;34m:\u001b[0m\u001b[0;34m\u001b[0m\u001b[0;34m\u001b[0m\u001b[0m\n\u001b[0;32m--> 407\u001b[0;31m         \u001b[0mbuf\u001b[0m \u001b[0;34m=\u001b[0m \u001b[0mself\u001b[0m\u001b[0;34m.\u001b[0m\u001b[0m_recv\u001b[0m\u001b[0;34m(\u001b[0m\u001b[0;36m4\u001b[0m\u001b[0;34m)\u001b[0m\u001b[0;34m\u001b[0m\u001b[0;34m\u001b[0m\u001b[0m\n\u001b[0m\u001b[1;32m    408\u001b[0m         \u001b[0msize\u001b[0m\u001b[0;34m,\u001b[0m \u001b[0;34m=\u001b[0m \u001b[0mstruct\u001b[0m\u001b[0;34m.\u001b[0m\u001b[0munpack\u001b[0m\u001b[0;34m(\u001b[0m\u001b[0;34m\"!i\"\u001b[0m\u001b[0;34m,\u001b[0m \u001b[0mbuf\u001b[0m\u001b[0;34m.\u001b[0m\u001b[0mgetvalue\u001b[0m\u001b[0;34m(\u001b[0m\u001b[0;34m)\u001b[0m\u001b[0;34m)\u001b[0m\u001b[0;34m\u001b[0m\u001b[0;34m\u001b[0m\u001b[0m\n\u001b[1;32m    409\u001b[0m         \u001b[0;32mif\u001b[0m \u001b[0mmaxsize\u001b[0m \u001b[0;32mis\u001b[0m \u001b[0;32mnot\u001b[0m \u001b[0;32mNone\u001b[0m \u001b[0;32mand\u001b[0m \u001b[0msize\u001b[0m \u001b[0;34m>\u001b[0m \u001b[0mmaxsize\u001b[0m\u001b[0;34m:\u001b[0m\u001b[0;34m\u001b[0m\u001b[0;34m\u001b[0m\u001b[0m\n",
      "\u001b[0;32m~/anaconda3/envs/DPC/lib/python3.7/multiprocessing/connection.py\u001b[0m in \u001b[0;36m_recv\u001b[0;34m(self, size, read)\u001b[0m\n\u001b[1;32m    377\u001b[0m         \u001b[0mremaining\u001b[0m \u001b[0;34m=\u001b[0m \u001b[0msize\u001b[0m\u001b[0;34m\u001b[0m\u001b[0;34m\u001b[0m\u001b[0m\n\u001b[1;32m    378\u001b[0m         \u001b[0;32mwhile\u001b[0m \u001b[0mremaining\u001b[0m \u001b[0;34m>\u001b[0m \u001b[0;36m0\u001b[0m\u001b[0;34m:\u001b[0m\u001b[0;34m\u001b[0m\u001b[0;34m\u001b[0m\u001b[0m\n\u001b[0;32m--> 379\u001b[0;31m             \u001b[0mchunk\u001b[0m \u001b[0;34m=\u001b[0m \u001b[0mread\u001b[0m\u001b[0;34m(\u001b[0m\u001b[0mhandle\u001b[0m\u001b[0;34m,\u001b[0m \u001b[0mremaining\u001b[0m\u001b[0;34m)\u001b[0m\u001b[0;34m\u001b[0m\u001b[0;34m\u001b[0m\u001b[0m\n\u001b[0m\u001b[1;32m    380\u001b[0m             \u001b[0mn\u001b[0m \u001b[0;34m=\u001b[0m \u001b[0mlen\u001b[0m\u001b[0;34m(\u001b[0m\u001b[0mchunk\u001b[0m\u001b[0;34m)\u001b[0m\u001b[0;34m\u001b[0m\u001b[0;34m\u001b[0m\u001b[0m\n\u001b[1;32m    381\u001b[0m             \u001b[0;32mif\u001b[0m \u001b[0mn\u001b[0m \u001b[0;34m==\u001b[0m \u001b[0;36m0\u001b[0m\u001b[0;34m:\u001b[0m\u001b[0;34m\u001b[0m\u001b[0;34m\u001b[0m\u001b[0m\n",
      "\u001b[0;31mKeyboardInterrupt\u001b[0m: "
     ]
    }
   ],
   "source": [
    "\n",
    "\n",
    "r_c0 = runNAgents(dsr_feature_init, runs=2, freeze=2, ref=avdsr, style=0)\n",
    "r_c1 = runNAgents(dsr_feature_init, runs=2, freeze=2, ref=avdsr, style=1)\n",
    "r_dqn_base_16 = runNAgents(dqn_feature, runs=2)"
   ]
  },
  {
   "cell_type": "code",
   "execution_count": 16,
   "metadata": {},
   "outputs": [],
   "source": [
    "def plot_rewards(rewards, plot_seperate=True , clip=50000, title='unnamed'):\n",
    "    smooth = 5000\n",
    "    \n",
    "    colors = ['red', 'blue', 'green', 'm', 'k', 'y', '#999999']\n",
    "    \n",
    "    plt.figure(figsize=(16,6), dpi=200)\n",
    "    if(plot_seperate):\n",
    "        for k, v in rewards.items():\n",
    "            for t, r in zip(v[0], v[1]):\n",
    "                plt.plot(t, r, label=k)\n",
    "        plt.legend(), plt.show()\n",
    "        return\n",
    "    \n",
    "    for j, (k, v) in enumerate(rewards.items()):\n",
    "        r_vec = np.zeros((len(v[0]), clip-smooth+1))\n",
    "        for i, (t, r) in enumerate(zip(v[0], v[1])):\n",
    "            r_vec[i,:] = convolve(np.interp(np.arange(clip), t, r), smooth)\n",
    "    \n",
    "        mean = np.mean(np.array(r_vec), axis=0)\n",
    "        std = np.std(np.array(r_vec), axis=0)\n",
    "        plt.plot(mean, label=k, color=colors[j])\n",
    "        plt.fill_between(np.arange(0, len(mean)), mean+std, mean-std, facecolor=colors[j], alpha=0.3)\n",
    "    \n",
    "    plt.xlabel('timesteps'), plt.ylabel('episodic returns')\n",
    "    plt.title(title)\n",
    "    plt.legend(loc='lower right'), plt.show()"
   ]
  },
  {
   "cell_type": "code",
   "execution_count": null,
   "metadata": {},
   "outputs": [],
   "source": [
    "rewards_dict = {'DQN (h=(16,))': r_dqn_base_16[1:],\n",
    "                'APSF($\\pi_{\\epsilon=1}$) - 169 parameters': r_c0[1:],\n",
    "                'APSF($\\pi_{\\epsilon=1}$) - 2708 parameters': r_c1[1:],\n",
    "               }\n",
    "\n",
    "plot_rewards(rewards_dict, plot_seperate=False, title='Policy-general SFs: 2 runs on 3rooms(h) env')"
   ]
  },
  {
   "cell_type": "code",
   "execution_count": null,
   "metadata": {},
   "outputs": [],
   "source": []
  }
 ],
 "metadata": {
  "kernelspec": {
   "display_name": "DPC",
   "language": "python",
   "name": "dpc"
  },
  "language_info": {
   "codemirror_mode": {
    "name": "ipython",
    "version": 3
   },
   "file_extension": ".py",
   "mimetype": "text/x-python",
   "name": "python",
   "nbconvert_exporter": "python",
   "pygments_lexer": "ipython3",
   "version": "3.7.10"
  }
 },
 "nbformat": 4,
 "nbformat_minor": 4
}
